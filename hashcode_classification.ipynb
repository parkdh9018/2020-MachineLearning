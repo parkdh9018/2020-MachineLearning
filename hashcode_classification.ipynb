{
 "cells": [
  {
   "cell_type": "markdown",
   "metadata": {},
   "source": [
    "pre-trained word embadding (word2vec)"
   ]
  },
  {
   "cell_type": "code",
   "execution_count": 42,
   "metadata": {},
   "outputs": [
    {
     "name": "stdout",
     "output_type": "stream",
     "text": [
      "총 토큰 개수 : 52841\n"
     ]
    }
   ],
   "source": [
    "import re\n",
    "import pandas as pd\n",
    "from konlpy.tag import Okt\n",
    "\n",
    "##https://stackoverflow.com/의 데이터를 크롤링해 저장한 파일\n",
    "crawling_data = pd.read_csv('crawling_result.csv', sep=\",\", keep_default_na=False)\n",
    "\n",
    "tokenize_text = []\n",
    "\n",
    "for idx, member in crawling_data.iterrows():\n",
    "    okt=Okt()\n",
    "    try:\n",
    "        if member[0] is not None:\n",
    "            okt = okt.pos(member[0].lower())\n",
    "            word_list = [n for n, tag in okt if tag == 'Alpha' and len(n) >= 2]\n",
    "    except:\n",
    "        print(\"error : \" + m)\n",
    "        print(member[0])\n",
    "    \n",
    "    if(len(word_list) >= 2):\n",
    "        tokenize_text.append(word_list)\n",
    "    \n",
    "\n",
    "print('총 토큰 개수 : {}'.format(len(tokenize_text)))"
   ]
  },
  {
   "cell_type": "code",
   "execution_count": 3,
   "metadata": {
    "scrolled": false
   },
   "outputs": [],
   "source": [
    "#Word2Vec 훈련\n",
    "from gensim.models import Word2Vec\n",
    "embadding_size = 32\n",
    "model = Word2Vec(sentences=tokenize_text,size=embadding_size, window=5, min_count=3, workers=4, sg=0)"
   ]
  },
  {
   "cell_type": "code",
   "execution_count": 4,
   "metadata": {},
   "outputs": [],
   "source": [
    "from gensim.models import KeyedVectors\n",
    "model.wv.save_word2vec_format('eng_w2v') # 모델 저장\n",
    "loaded_model = KeyedVectors.load_word2vec_format(\"eng_w2v\") # 모델 로드"
   ]
  },
  {
   "cell_type": "markdown",
   "metadata": {},
   "source": [
    "------------------------ 미리 저장된 모델 로드  -----------------------------"
   ]
  },
  {
   "cell_type": "code",
   "execution_count": 11,
   "metadata": {},
   "outputs": [],
   "source": [
    "from gensim.models import KeyedVectors\n",
    "embadding_size = 32\n",
    "loaded_model = KeyedVectors.load_word2vec_format(\"eng_w2v\") # 모델 로드"
   ]
  },
  {
   "cell_type": "code",
   "execution_count": 12,
   "metadata": {},
   "outputs": [
    {
     "name": "stdout",
     "output_type": "stream",
     "text": [
      "[('ctime', 0.9325694441795349), ('namespace', 0.9204610586166382), ('sstream', 0.8891147375106812), ('iomanip', 0.8835949897766113), ('cstdio', 0.8781796097755432), ('algorithm', 0.8671043515205383), ('hpp', 0.8418859839439392), ('bitset', 0.8048309087753296), ('cassert', 0.7983977198600769), ('cstdlib', 0.7979016304016113)]\n"
     ]
    }
   ],
   "source": [
    "model_result = loaded_model.most_similar(\"iostream\") #word embedding 확인\n",
    "print(model_result)"
   ]
  },
  {
   "cell_type": "code",
   "execution_count": 2,
   "metadata": {},
   "outputs": [],
   "source": [
    "import re\n",
    "import pandas as pd\n",
    "from konlpy.tag import Okt ##한국어 NLP인 KoNLPy 사용\n",
    "\n",
    "word_cnt = []\n",
    "vocab = {}\n",
    "\n",
    "train_data_read = pd.read_csv('hashcode_classification2020_train.csv', sep=\",\", keep_default_na=False)\n",
    "\n",
    "train_data = []\n",
    "train_y = []\n",
    "cnt = 0\n",
    "\n",
    "for idx, member in train_data_read.iterrows():\n",
    "    \n",
    "        ## 훈련 데이터의 파일의 문장들을 분석하여 저장\n",
    "        for i in range(2):\n",
    "            okt=Okt()\n",
    "            try:\n",
    "                if member[i] is not None:\n",
    "                    okt = okt.pos(member[i].lower())\n",
    "                    word_list = [n for n, tag in okt if tag == 'Alpha' and len(n) >= 2]\n",
    "            except:\n",
    "                print(\"error : \" + m)\n",
    "                print(member[i])\n",
    "        cnt += len(word_list)\n",
    "        train_data.append(word_list)\n",
    "        train_y.append(member[2])\n",
    "        \n",
    "        ## 훈련 데이터 파일의 단어가 나온 횟수를 저장 (정수 인코딩)\n",
    "        for word in word_list:\n",
    "            if word not in vocab:\n",
    "                vocab[word] = 0\n",
    "            vocab[word] += 1\n",
    "                \n"
   ]
  },
  {
   "cell_type": "code",
   "execution_count": 3,
   "metadata": {},
   "outputs": [],
   "source": [
    "test_data_read = pd.read_csv('hashcode_classification2020_test.csv', sep=\",\")\n",
    "test_data = []\n",
    "\n",
    "##테스트 데이터의 파일의 문장들을 분석하여 저장\n",
    "for idx, member in test_data_read.iterrows():\n",
    "        for i in range(2):\n",
    "            okt=Okt()\n",
    "            try:\n",
    "                okt = okt.pos(member[i].lower())\n",
    "                word_list = [n for n, tag in okt if tag == 'Alpha' and len(n) >= 2]\n",
    "            except:\n",
    "                print(\"error\")\n",
    "        \n",
    "        test_data.append(word_list)\n",
    "        \n"
   ]
  },
  {
   "cell_type": "code",
   "execution_count": 4,
   "metadata": {},
   "outputs": [
    {
     "name": "stdout",
     "output_type": "stream",
     "text": [
      "단어 종류 : 10902\n"
     ]
    }
   ],
   "source": [
    "#단어 빈도수 순으로 정렬\n",
    "vocab_sorted=sorted(vocab.items(), key=lambda x:x[1], reverse=True)\n",
    "\n",
    "print(\"단어 종류 : {}\".format(len(vocab_sorted)))\n",
    "\n",
    "word_index={}\n",
    "index_max = 784\n",
    "\n",
    "i = 0\n",
    "for (word, frequency) in vocab_sorted:\n",
    "    if frequency > 2 and i < index_max and len(word) != 1:\n",
    "        i += 1\n",
    "        word_index[word] = i\n",
    "        \n",
    "        "
   ]
  },
  {
   "cell_type": "code",
   "execution_count": 5,
   "metadata": {},
   "outputs": [],
   "source": [
    "#정수 인코딩\n",
    "train_x = []\n",
    "for s in train_data:\n",
    "    temp = []\n",
    "    for word in s:\n",
    "        try:\n",
    "            temp.append(word_index[word])\n",
    "        except:\n",
    "            temp.append(index_max + 1)\n",
    "    train_x.append(temp)\n",
    "    \n",
    "real_test_x = []\n",
    "for s in test_data:\n",
    "    temp = []\n",
    "    for word in s:\n",
    "        try:\n",
    "            temp.append(word_index[word])\n",
    "        except:\n",
    "            temp.append(index_max + 1)\n",
    "    real_test_x.append(temp)\n"
   ]
  },
  {
   "cell_type": "code",
   "execution_count": 6,
   "metadata": {},
   "outputs": [],
   "source": [
    "#train 데이터의 20퍼센트 가량을 테스트 데이터로 사용\n",
    "p_test_x = train_x [2074:]\n",
    "p_train_x = train_x [:2073]\n",
    "\n",
    "p_test_y = train_y [2074:]\n",
    "p_train_y = train_y [:2073]\n"
   ]
  },
  {
   "cell_type": "code",
   "execution_count": 7,
   "metadata": {},
   "outputs": [],
   "source": [
    "from tensorflow.keras.datasets import reuters\n",
    "from tensorflow.keras.models import Sequential\n",
    "from tensorflow.keras.layers import Dense, LSTM, Embedding\n",
    "from tensorflow.keras.preprocessing.sequence import pad_sequences\n",
    "from tensorflow.keras.utils import to_categorical\n",
    "import tensorflow as tf\n",
    "\n",
    "max_len = 100\n",
    "p_train_x = pad_sequences(p_train_x, maxlen=max_len) # 훈련용 뉴스 기사 패딩\n",
    "p_test_x = pad_sequences(p_test_x, maxlen=max_len) # 테스트용 뉴스 기사 패딩\n",
    "\n",
    "p_train_y = to_categorical(p_train_y) # 훈련용 뉴스 기사 레이블의 원-핫 인코딩\n",
    "p_test_y = to_categorical(p_test_y) # 훈련용 뉴스 기사 레이블의 원-핫 인코딩"
   ]
  },
  {
   "cell_type": "code",
   "execution_count": 13,
   "metadata": {},
   "outputs": [],
   "source": [
    "import numpy as np\n",
    "embedding_matrix = np.zeros((index_max+2, embadding_size))\n",
    "# 단어 집합 크기의 행과 300개의 열을 가지는 행렬 생성. 값은 전부 0으로 채워진다.\n",
    "\n",
    "\n",
    "#pre-trained word embedding을 사용하기 위한 함수\n",
    "def get_vector(word):\n",
    "    if word in loaded_model:\n",
    "        return loaded_model[word]\n",
    "    else:\n",
    "        return None\n",
    "\n",
    "for word, i in word_index.items(): \n",
    "    temp = get_vector(word) \n",
    "    if temp is not None: \n",
    "        embedding_matrix[i] = temp \n",
    "\n"
   ]
  },
  {
   "cell_type": "code",
   "execution_count": 36,
   "metadata": {},
   "outputs": [
    {
     "name": "stdout",
     "output_type": "stream",
     "text": [
      "Train on 2073 samples, validate on 518 samples\n",
      "Epoch 1/20\n",
      "2073/2073 [==============================] - 9s 4ms/sample - loss: 1.7828 - accuracy: 0.2629 - val_loss: 1.6409 - val_accuracy: 0.4093\n",
      "Epoch 2/20\n",
      "2073/2073 [==============================] - 2s 1ms/sample - loss: 1.5946 - accuracy: 0.3912 - val_loss: 1.4947 - val_accuracy: 0.4305\n",
      "Epoch 3/20\n",
      "2073/2073 [==============================] - 2s 1ms/sample - loss: 1.4511 - accuracy: 0.4317 - val_loss: 1.3790 - val_accuracy: 0.4421\n",
      "Epoch 4/20\n",
      "2073/2073 [==============================] - 2s 1ms/sample - loss: 1.3458 - accuracy: 0.4867 - val_loss: 1.2819 - val_accuracy: 0.4981\n",
      "Epoch 5/20\n",
      "2073/2073 [==============================] - 2s 1ms/sample - loss: 1.2594 - accuracy: 0.5215 - val_loss: 1.1979 - val_accuracy: 0.5367\n",
      "Epoch 6/20\n",
      "2073/2073 [==============================] - 2s 1ms/sample - loss: 1.1889 - accuracy: 0.5470 - val_loss: 1.1481 - val_accuracy: 0.5753\n",
      "Epoch 7/20\n",
      "2073/2073 [==============================] - 2s 1ms/sample - loss: 1.1271 - accuracy: 0.5784 - val_loss: 1.0861 - val_accuracy: 0.6139\n",
      "Epoch 8/20\n",
      "2073/2073 [==============================] - 2s 1ms/sample - loss: 1.0492 - accuracy: 0.6131 - val_loss: 1.0366 - val_accuracy: 0.6332\n",
      "Epoch 9/20\n",
      "2073/2073 [==============================] - 2s 1ms/sample - loss: 1.0062 - accuracy: 0.6368 - val_loss: 1.0364 - val_accuracy: 0.6274\n",
      "Epoch 10/20\n",
      "2073/2073 [==============================] - 2s 1ms/sample - loss: 0.9565 - accuracy: 0.6599 - val_loss: 1.0020 - val_accuracy: 0.6429\n",
      "Epoch 11/20\n",
      "2073/2073 [==============================] - 2s 1ms/sample - loss: 0.9225 - accuracy: 0.6778 - val_loss: 0.9507 - val_accuracy: 0.6641\n",
      "Epoch 12/20\n",
      "2073/2073 [==============================] - 2s 1ms/sample - loss: 0.8838 - accuracy: 0.6946 - val_loss: 0.9365 - val_accuracy: 0.6641\n",
      "Epoch 13/20\n",
      "2073/2073 [==============================] - 2s 1ms/sample - loss: 0.8533 - accuracy: 0.6951 - val_loss: 0.9170 - val_accuracy: 0.6699\n",
      "Epoch 14/20\n",
      "2073/2073 [==============================] - 2s 1ms/sample - loss: 0.8156 - accuracy: 0.7159 - val_loss: 0.8925 - val_accuracy: 0.6873\n",
      "Epoch 15/20\n",
      "2073/2073 [==============================] - 2s 1ms/sample - loss: 0.8159 - accuracy: 0.7168 - val_loss: 0.8897 - val_accuracy: 0.6815\n",
      "Epoch 16/20\n",
      "2073/2073 [==============================] - 2s 1ms/sample - loss: 0.7887 - accuracy: 0.7192 - val_loss: 0.9098 - val_accuracy: 0.6795\n",
      "Epoch 17/20\n",
      "2073/2073 [==============================] - 2s 1ms/sample - loss: 0.7732 - accuracy: 0.7197 - val_loss: 0.8927 - val_accuracy: 0.6815\n",
      "Epoch 18/20\n",
      "2073/2073 [==============================] - 2s 1ms/sample - loss: 0.7432 - accuracy: 0.7458 - val_loss: 0.8767 - val_accuracy: 0.6873\n",
      "Epoch 19/20\n",
      "2073/2073 [==============================] - 2s 1ms/sample - loss: 0.7347 - accuracy: 0.7405 - val_loss: 0.8740 - val_accuracy: 0.6834\n",
      "Epoch 20/20\n",
      "2073/2073 [==============================] - 2s 1ms/sample - loss: 0.7291 - accuracy: 0.7371 - val_loss: 0.8744 - val_accuracy: 0.6853\n"
     ]
    }
   ],
   "source": [
    "## 자연어 처리에 주로 사용되는 모델인 RNN 사용, 입력된 데이터가 다음시점에 자신에게 영향을 줌으로써 적응이 빠름\n",
    "model = tf.keras.Sequential([\n",
    "    tf.keras.layers.Embedding(index_max+2, embadding_size, weights=[embedding_matrix], input_length=max_len, trainable=False),\n",
    "    tf.keras.layers.Bidirectional(tf.keras.layers.LSTM(embadding_size)),\n",
    "    tf.keras.layers.Dropout(0.5),\n",
    "    tf.keras.layers.Dense(6, activation='softmax')\n",
    "])\n",
    "\n",
    "\n",
    "model.compile(loss='categorical_crossentropy',  optimizer='adam', metrics=['accuracy'])\n",
    "\n",
    "## 훈련 데이터를 통한 모델 검증\n",
    "history = model.fit(p_train_x, p_train_y, batch_size=128, epochs=20, validation_data=(p_test_x, p_test_y))"
   ]
  },
  {
   "cell_type": "code",
   "execution_count": 37,
   "metadata": {},
   "outputs": [],
   "source": [
    "#테스트 데이터 예측\n",
    "real_test_x = pad_sequences(real_test_x, maxlen=max_len)\n",
    "result = model.predict(real_test_x)"
   ]
  },
  {
   "cell_type": "code",
   "execution_count": 38,
   "metadata": {},
   "outputs": [
    {
     "name": "stdout",
     "output_type": "stream",
     "text": [
      "[5 4 1 3 5 3 4 4 3 3 2 5 5 3 5 3 4 1 1 2 3 5 3 5 1 4 5 2 5 3 4 3 4 4 3 5 3\n",
      " 4 4 5 1 5 3 3 4 1 3 3 4 5 4 3 1 1 1 2 5 5 3 5 3 3 5 3 4 5 3 4 3 3 3 5 3 3\n",
      " 4 4 4 5 2 3 3 1 5 4 5 4 2 5 3 3 3 1 3 3 1 2 1 3 5 4 3 3 3 2 2 1 4 4 2 4 2\n",
      " 1 4 3 3 5 4 4 3 2 2 2 4 1 3 3 3 1 1 5 2 1 2 5 4 3 5 3 3 3 5 5 5 5 3 3 4 4\n",
      " 3 5 4 3 1 3 3 5 2 4 3 4 3 3 5 4 2 3 3 3 3 5 1 5 5 5 3 2 4 2 4 4 4 3 5 5 2\n",
      " 3 5 1 3 2 1 4 5 3 4 4 4 4 1 4 1 3 3 5 3 2 5 5 3 4 1 1 2 3 1 5 1 5 3 4 5 3\n",
      " 4 3 3 2 5 5 3 3 3 3 4 1 2 3 5 1 5 2 4 3 5 2 1 4 4 1 1 3 1 3 1 2 3 4 4 3 3\n",
      " 3 3 3 3 1 5 5 3 5 3 3 1 5 3 3 4 1 2 4 1 1 3 5 1 1 5 1 3 3 5 3 1 2 5 1 4 4\n",
      " 1 3 5 1 1 5 3 3 3 3 3 5 3 3 5 5 2 5 3 2 3 5 3 3 4 3 2 3 3 3 3 3 5 3 2 4 3\n",
      " 3 3 2 4 3 3 5 3 5 3 3 3 1 3 1 5 5 4 5 3 2 1 3 3 5 3 5 5 3 3 3 3 1 3 1 4 2\n",
      " 3 3 4 1 5 3 1 3 4 3 5 3 3 3 3 5 3 1 4 2 4 1 3 5 5 3 3 5 1 2 3 5 1 1 3 4 3\n",
      " 5 3 4 1 5 5 3 3 4 4 2 1 3 5 3 3 3 3 3 3 3 2 3 5 3 4 3 4 5 3 4 2 3 3 5 3 2\n",
      " 4 4 4 2 3 1 3 3 4 4 1 3 4 3 3 3 4 4 5 3 3 3 3 3 1 1 5 3 5 2 5 2 3 4 4 4 5\n",
      " 5 3 5 5 2 3 5 2 5 3 5 3 3 4 3 5 1 2 4]\n"
     ]
    }
   ],
   "source": [
    "#예측한 결과값을 decoding \n",
    "import numpy as np\n",
    "decode = np.argmax(result, axis=1)\n",
    "print(decode)"
   ]
  },
  {
   "cell_type": "code",
   "execution_count": 39,
   "metadata": {},
   "outputs": [],
   "source": [
    "df = pd.DataFrame(decode, columns=['label'])"
   ]
  },
  {
   "cell_type": "code",
   "execution_count": 40,
   "metadata": {},
   "outputs": [],
   "source": [
    "df.to_csv('./result.csv', index=False)"
   ]
  },
  {
   "cell_type": "code",
   "execution_count": 41,
   "metadata": {},
   "outputs": [
    {
     "data": {
      "image/png": "[encoded data removed]",
      "text/plain": [
       "<Figure size 432x288 with 1 Axes>"
      ]
     },
     "metadata": {
      "needs_background": "light"
     },
     "output_type": "display_data"
    }
   ],
   "source": [
    "#정확도와 손실값을 표현\n",
    "import matplotlib.pyplot as plt\n",
    "epochs = range(1, len(history.history['accuracy']) + 1)\n",
    "plt.plot(epochs, history.history['loss'])\n",
    "plt.plot(epochs, history.history['val_loss'])\n",
    "plt.title('model loss')\n",
    "plt.ylabel('loss')\n",
    "plt.xlabel('epoch')\n",
    "plt.legend(['train', 'test'], loc='upper left')\n",
    "plt.show()"
   ]
  },
  {
   "cell_type": "code",
   "execution_count": null,
   "metadata": {},
   "outputs": [],
   "source": []
  }
 ],
 "metadata": {
  "kernelspec": {
   "display_name": "Python 3",
   "language": "python",
   "name": "python3"
  },
  "language_info": {
   "codemirror_mode": {
    "name": "ipython",
    "version": 3
   },
   "file_extension": ".py",
   "mimetype": "text/x-python",
   "name": "python",
   "nbconvert_exporter": "python",
   "pygments_lexer": "ipython3",
   "version": "3.7.6"
  }
 },
 "nbformat": 4,
 "nbformat_minor": 4
}
